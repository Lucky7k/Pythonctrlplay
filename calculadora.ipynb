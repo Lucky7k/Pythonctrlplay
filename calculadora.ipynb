{
 "cells": [
  {
   "cell_type": "code",
   "execution_count": 1,
   "id": "eec40406",
   "metadata": {},
   "outputs": [],
   "source": [
    "import math\n",
    "\n",
    "def soma (a,b):\n",
    "    return a+b\n",
    "\n",
    "def subtracao (a,b):\n",
    "    return a-b\n",
    "\n",
    "def multiplicacao (a,b):\n",
    "    return a*b\n",
    "\n",
    "def divisao (a,b):\n",
    "    return a/b\n",
    "\n",
    "def exponenciacao (a,b):\n",
    "    return math.pow (a,b)"
   ]
  },
  {
   "cell_type": "code",
   "execution_count": null,
   "id": "eb241e11",
   "metadata": {},
   "outputs": [],
   "source": []
  }
 ],
 "metadata": {
  "kernelspec": {
   "display_name": "Python 3",
   "language": "python",
   "name": "python3"
  },
  "language_info": {
   "codemirror_mode": {
    "name": "ipython",
    "version": 3
   },
   "file_extension": ".py",
   "mimetype": "text/x-python",
   "name": "python",
   "nbconvert_exporter": "python",
   "pygments_lexer": "ipython3",
   "version": "3.8.8"
  }
 },
 "nbformat": 4,
 "nbformat_minor": 5
}
