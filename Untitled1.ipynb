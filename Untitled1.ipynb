{
 "cells": [
  {
   "cell_type": "code",
   "execution_count": 3,
   "id": "d0e63b66",
   "metadata": {},
   "outputs": [
    {
     "name": "stdout",
     "output_type": "stream",
     "text": [
      "Writing Akali.txt\n"
     ]
    }
   ],
   "source": [
    "%%writefile Akali.txt\n",
    "Akali é o Meta"
   ]
  },
  {
   "cell_type": "code",
   "execution_count": 9,
   "id": "f1462e2c",
   "metadata": {},
   "outputs": [
    {
     "data": {
      "text/plain": [
       "'Akali Ã© o Meta\\n'"
      ]
     },
     "execution_count": 9,
     "metadata": {},
     "output_type": "execute_result"
    }
   ],
   "source": [
    "arquivo.read()"
   ]
  },
  {
   "cell_type": "code",
   "execution_count": 12,
   "id": "cbc8636e",
   "metadata": {},
   "outputs": [
    {
     "data": {
      "text/plain": [
       "'Akali Ã© o Meta\\n'"
      ]
     },
     "execution_count": 12,
     "metadata": {},
     "output_type": "execute_result"
    }
   ],
   "source": [
    "arquivo = open(\"Akali.txt\")\n",
    "arquivo.read()"
   ]
  },
  {
   "cell_type": "code",
   "execution_count": 13,
   "id": "40fa494e",
   "metadata": {},
   "outputs": [
    {
     "data": {
      "text/plain": [
       "''"
      ]
     },
     "execution_count": 13,
     "metadata": {},
     "output_type": "execute_result"
    }
   ],
   "source": [
    "arquivo.read()"
   ]
  },
  {
   "cell_type": "code",
   "execution_count": 14,
   "id": "a29a3963",
   "metadata": {},
   "outputs": [
    {
     "data": {
      "text/plain": [
       "0"
      ]
     },
     "execution_count": 14,
     "metadata": {},
     "output_type": "execute_result"
    }
   ],
   "source": [
    "arquivo.seek(0)"
   ]
  },
  {
   "cell_type": "code",
   "execution_count": 15,
   "id": "1e809a07",
   "metadata": {},
   "outputs": [
    {
     "data": {
      "text/plain": [
       "'Akali Ã© o Meta\\n'"
      ]
     },
     "execution_count": 15,
     "metadata": {},
     "output_type": "execute_result"
    }
   ],
   "source": [
    "arquivo.read()"
   ]
  },
  {
   "cell_type": "code",
   "execution_count": 17,
   "id": "01afa7a2",
   "metadata": {},
   "outputs": [
    {
     "ename": "ValueError",
     "evalue": "I/O operation on closed file.",
     "output_type": "error",
     "traceback": [
      "\u001b[1;31m---------------------------------------------------------------------------\u001b[0m",
      "\u001b[1;31mValueError\u001b[0m                                Traceback (most recent call last)",
      "\u001b[1;32m<ipython-input-17-b971f1866a5d>\u001b[0m in \u001b[0;36m<module>\u001b[1;34m\u001b[0m\n\u001b[0;32m      1\u001b[0m \u001b[0marquivo\u001b[0m\u001b[1;33m.\u001b[0m\u001b[0mclose\u001b[0m\u001b[1;33m(\u001b[0m\u001b[1;33m)\u001b[0m\u001b[1;33m\u001b[0m\u001b[1;33m\u001b[0m\u001b[0m\n\u001b[1;32m----> 2\u001b[1;33m \u001b[0marquivo\u001b[0m\u001b[1;33m.\u001b[0m\u001b[0mread\u001b[0m\u001b[1;33m(\u001b[0m\u001b[1;33m)\u001b[0m\u001b[1;33m\u001b[0m\u001b[1;33m\u001b[0m\u001b[0m\n\u001b[0m",
      "\u001b[1;31mValueError\u001b[0m: I/O operation on closed file."
     ]
    }
   ],
   "source": [
    "arquivo.close()\n",
    "arquivo.read()"
   ]
  },
  {
   "cell_type": "code",
   "execution_count": 22,
   "id": "05116ed9",
   "metadata": {},
   "outputs": [
    {
     "name": "stdout",
     "output_type": "stream",
     "text": [
      "Akali Ã© o Meta\n",
      "\n"
     ]
    }
   ],
   "source": [
    "with open(\"Akali.txt\",\"r+\") as arquivo:\n",
    "    print(arquivo.read())"
   ]
  },
  {
   "cell_type": "code",
   "execution_count": 31,
   "id": "03d51bb5",
   "metadata": {},
   "outputs": [
    {
     "name": "stdout",
     "output_type": "stream",
     "text": [
      "Writing lista.txt\n"
     ]
    }
   ],
   "source": [
    "%%writefile lista.txt\n",
    " "
   ]
  },
  {
   "cell_type": "code",
   "execution_count": 37,
   "id": "8afee16b",
   "metadata": {},
   "outputs": [],
   "source": [
    "lista2 = [\"batata\",\"riotpoints\",\"refrigerante\"]\n",
    "with open(\"lista.txt\",\"a\") as lista:\n",
    "    for item in lista2:\n",
    "        lista.write(item+\"\\n\")"
   ]
  },
  {
   "cell_type": "code",
   "execution_count": 41,
   "id": "f61b3736",
   "metadata": {},
   "outputs": [
    {
     "name": "stdout",
     "output_type": "stream",
     "text": [
      " \n",
      "batata\n",
      "riotpoints\n",
      "refrigerante\n",
      "\n"
     ]
    }
   ],
   "source": [
    "with open(\"lista.txt\") as lista:\n",
    "    print(lista.read())"
   ]
  },
  {
   "cell_type": "code",
   "execution_count": null,
   "id": "720635fd",
   "metadata": {},
   "outputs": [],
   "source": []
  }
 ],
 "metadata": {
  "kernelspec": {
   "display_name": "Python 3",
   "language": "python",
   "name": "python3"
  },
  "language_info": {
   "codemirror_mode": {
    "name": "ipython",
    "version": 3
   },
   "file_extension": ".py",
   "mimetype": "text/x-python",
   "name": "python",
   "nbconvert_exporter": "python",
   "pygments_lexer": "ipython3",
   "version": "3.8.8"
  }
 },
 "nbformat": 4,
 "nbformat_minor": 5
}
