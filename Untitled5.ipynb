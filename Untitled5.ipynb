{
 "cells": [
  {
   "cell_type": "code",
   "execution_count": 4,
   "id": "5281a779",
   "metadata": {},
   "outputs": [
    {
     "name": "stdout",
     "output_type": "stream",
     "text": [
      "15\n",
      "999\n",
      "900\n",
      "30.0\n",
      "5559060566555523.0\n"
     ]
    }
   ],
   "source": [
    "import calculadora\n",
    "\n",
    "print(calculadora.soma(10,5))\n",
    "print(calculadora.subtracao(1000,1))\n",
    "print(calculadora.multiplicacao(10,90))\n",
    "print(calculadora.divisao(60,2))\n",
    "print(calculadora.exponenciacao(3,33))"
   ]
  },
  {
   "cell_type": "code",
   "execution_count": null,
   "id": "055211e4",
   "metadata": {},
   "outputs": [],
   "source": []
  }
 ],
 "metadata": {
  "kernelspec": {
   "display_name": "Python 3",
   "language": "python",
   "name": "python3"
  },
  "language_info": {
   "codemirror_mode": {
    "name": "ipython",
    "version": 3
   },
   "file_extension": ".py",
   "mimetype": "text/x-python",
   "name": "python",
   "nbconvert_exporter": "python",
   "pygments_lexer": "ipython3",
   "version": "3.8.8"
  }
 },
 "nbformat": 4,
 "nbformat_minor": 5
}
